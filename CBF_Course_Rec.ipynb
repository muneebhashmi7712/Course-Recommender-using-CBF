{
  "nbformat": 4,
  "nbformat_minor": 0,
  "metadata": {
    "kernelspec": {
      "display_name": "Python 3",
      "language": "python",
      "name": "python3"
    },
    "language_info": {
      "codemirror_mode": {
        "name": "ipython",
        "version": 3
      },
      "file_extension": ".py",
      "mimetype": "text/x-python",
      "name": "python",
      "nbconvert_exporter": "python",
      "pygments_lexer": "ipython3",
      "version": "3.8.3"
    },
    "colab": {
      "name": "CBF_Course_Rec.ipynb",
      "provenance": []
    }
  },
  "cells": [
    {
      "cell_type": "code",
      "metadata": {
        "id": "HpxIJ2yjRNeT"
      },
      "source": [
        "import pandas as pd"
      ],
      "execution_count": 45,
      "outputs": []
    },
    {
      "cell_type": "code",
      "metadata": {
        "id": "wtJaGqL2RNed"
      },
      "source": [
        "courses_data = pd.read_csv('courses.csv') #load data using pandas "
      ],
      "execution_count": 46,
      "outputs": []
    },
    {
      "cell_type": "code",
      "metadata": {
        "colab": {
          "base_uri": "https://localhost:8080/",
          "height": 197
        },
        "id": "IAXhJfR2RNee",
        "outputId": "a30be54f-fc70-4293-c611-681d8ac2c5ab"
      },
      "source": [
        "courses_data.head() #show the first 5 rows on data"
      ],
      "execution_count": 47,
      "outputs": [
        {
          "output_type": "execute_result",
          "data": {
            "text/html": [
              "<div>\n",
              "<style scoped>\n",
              "    .dataframe tbody tr th:only-of-type {\n",
              "        vertical-align: middle;\n",
              "    }\n",
              "\n",
              "    .dataframe tbody tr th {\n",
              "        vertical-align: top;\n",
              "    }\n",
              "\n",
              "    .dataframe thead th {\n",
              "        text-align: right;\n",
              "    }\n",
              "</style>\n",
              "<table border=\"1\" class=\"dataframe\">\n",
              "  <thead>\n",
              "    <tr style=\"text-align: right;\">\n",
              "      <th></th>\n",
              "      <th>ID</th>\n",
              "      <th>Course Name</th>\n",
              "      <th>type</th>\n",
              "    </tr>\n",
              "  </thead>\n",
              "  <tbody>\n",
              "    <tr>\n",
              "      <th>0</th>\n",
              "      <td>1</td>\n",
              "      <td>Building Machine Learning Models</td>\n",
              "      <td>Data Science</td>\n",
              "    </tr>\n",
              "    <tr>\n",
              "      <th>1</th>\n",
              "      <td>2</td>\n",
              "      <td>Road to Machine Learning</td>\n",
              "      <td>Data Science</td>\n",
              "    </tr>\n",
              "    <tr>\n",
              "      <th>2</th>\n",
              "      <td>3</td>\n",
              "      <td>Python for Beginners</td>\n",
              "      <td>Programming Languages</td>\n",
              "    </tr>\n",
              "    <tr>\n",
              "      <th>3</th>\n",
              "      <td>4</td>\n",
              "      <td>Learn Java</td>\n",
              "      <td>Programming Languages</td>\n",
              "    </tr>\n",
              "    <tr>\n",
              "      <th>4</th>\n",
              "      <td>5</td>\n",
              "      <td>Data Science</td>\n",
              "      <td>Data science</td>\n",
              "    </tr>\n",
              "  </tbody>\n",
              "</table>\n",
              "</div>"
            ],
            "text/plain": [
              "   ID                       Course Name                   type\n",
              "0   1  Building Machine Learning Models           Data Science\n",
              "1   2          Road to Machine Learning           Data Science\n",
              "2   3              Python for Beginners  Programming Languages\n",
              "3   4                        Learn Java  Programming Languages\n",
              "4   5                      Data Science           Data science"
            ]
          },
          "metadata": {
            "tags": []
          },
          "execution_count": 47
        }
      ]
    },
    {
      "cell_type": "code",
      "metadata": {
        "id": "DlkMRwm-RNeh"
      },
      "source": [
        "student_review = pd.read_csv('rating.csv')"
      ],
      "execution_count": 48,
      "outputs": []
    },
    {
      "cell_type": "code",
      "metadata": {
        "colab": {
          "base_uri": "https://localhost:8080/",
          "height": 197
        },
        "id": "bGuRcNvWRNei",
        "outputId": "a2a9bce9-2acc-4758-cf5a-5c64404f7e9d"
      },
      "source": [
        "student_review.head()"
      ],
      "execution_count": 49,
      "outputs": [
        {
          "output_type": "execute_result",
          "data": {
            "text/html": [
              "<div>\n",
              "<style scoped>\n",
              "    .dataframe tbody tr th:only-of-type {\n",
              "        vertical-align: middle;\n",
              "    }\n",
              "\n",
              "    .dataframe tbody tr th {\n",
              "        vertical-align: top;\n",
              "    }\n",
              "\n",
              "    .dataframe thead th {\n",
              "        text-align: right;\n",
              "    }\n",
              "</style>\n",
              "<table border=\"1\" class=\"dataframe\">\n",
              "  <thead>\n",
              "    <tr style=\"text-align: right;\">\n",
              "      <th></th>\n",
              "      <th>User_id</th>\n",
              "      <th>name</th>\n",
              "      <th>Course</th>\n",
              "      <th>rating</th>\n",
              "    </tr>\n",
              "  </thead>\n",
              "  <tbody>\n",
              "    <tr>\n",
              "      <th>0</th>\n",
              "      <td>5</td>\n",
              "      <td>chris</td>\n",
              "      <td>16</td>\n",
              "      <td>4.5</td>\n",
              "    </tr>\n",
              "    <tr>\n",
              "      <th>1</th>\n",
              "      <td>5</td>\n",
              "      <td>chris</td>\n",
              "      <td>35</td>\n",
              "      <td>2.0</td>\n",
              "    </tr>\n",
              "    <tr>\n",
              "      <th>2</th>\n",
              "      <td>3</td>\n",
              "      <td>han</td>\n",
              "      <td>5</td>\n",
              "      <td>4.5</td>\n",
              "    </tr>\n",
              "    <tr>\n",
              "      <th>3</th>\n",
              "      <td>16</td>\n",
              "      <td>han</td>\n",
              "      <td>7</td>\n",
              "      <td>3.0</td>\n",
              "    </tr>\n",
              "    <tr>\n",
              "      <th>4</th>\n",
              "      <td>17</td>\n",
              "      <td>jan</td>\n",
              "      <td>38</td>\n",
              "      <td>3.5</td>\n",
              "    </tr>\n",
              "  </tbody>\n",
              "</table>\n",
              "</div>"
            ],
            "text/plain": [
              "   User_id   name  Course  rating\n",
              "0        5  chris      16     4.5\n",
              "1        5  chris      35     2.0\n",
              "2        3    han       5     4.5\n",
              "3       16    han       7     3.0\n",
              "4       17    jan      38     3.5"
            ]
          },
          "metadata": {
            "tags": []
          },
          "execution_count": 49
        }
      ]
    },
    {
      "cell_type": "code",
      "metadata": {
        "id": "4ZI6SLd4RNel"
      },
      "source": [
        "dic_id_course_type = {} #key course_id -- value is the type of that course\n",
        "dic_type_id_courses = {} #key type  -- values   list of courses with that type\n",
        "\n",
        "\n",
        "courses_ids = list(courses_data.ID) #get all ids of courses (get the ID column and put in a list)\n",
        "types = list(courses_data.type) #get all types (get the type column and put in a list)\n",
        "\n",
        "for j in range(len(courses_ids)):\n",
        "    dic_id_course_type[courses_ids[j]] = types[j] # add type as value to key course #after it will be simple to get a type of any course\n",
        "    \n",
        "    if types[j] not in dic_type_id_courses:\n",
        "        dic_type_id_courses[types[j]] = [] #create a list that will contain the all the courses with type t== type[j]\n",
        "        \n",
        "    dic_type_id_courses[types[j]].append(courses_ids[j]) #add that course to type (remember the row j in dta have course and its type ) \n",
        "    "
      ],
      "execution_count": 50,
      "outputs": []
    },
    {
      "cell_type": "code",
      "metadata": {
        "colab": {
          "base_uri": "https://localhost:8080/"
        },
        "id": "J-t4111pRNel",
        "outputId": "ff52021d-5b79-4a6b-d276-b05929ffbdb5"
      },
      "source": [
        "dic_type_id_courses"
      ],
      "execution_count": 51,
      "outputs": [
        {
          "output_type": "execute_result",
          "data": {
            "text/plain": [
              "{'Data Science': [1, 2, 26, 28],\n",
              " 'Data science': [5],\n",
              " 'Design': [6, 14, 23, 24, 25],\n",
              " 'Physics': [7, 33],\n",
              " 'Programming Languages': [3, 4, 15, 16, 17],\n",
              " 'Web Development': [18, 19],\n",
              " 'design': [11, 12, 13, 21, 22],\n",
              " 'finance': [35, 36, 37, 38, 39],\n",
              " 'history': [10],\n",
              " 'mob app dev': [29, 30, 31, 32],\n",
              " 'physics': [8, 9, 20, 34],\n",
              " 'programming languages': [40],\n",
              " 'web development': [27]}"
            ]
          },
          "metadata": {
            "tags": []
          },
          "execution_count": 51
        }
      ]
    },
    {
      "cell_type": "code",
      "metadata": {
        "colab": {
          "base_uri": "https://localhost:8080/"
        },
        "id": "9Jsg6K3sRNem",
        "outputId": "4bfe6668-e997-4d1d-aa1b-45386d6ca91a"
      },
      "source": [
        "dic_id_course_type"
      ],
      "execution_count": 52,
      "outputs": [
        {
          "output_type": "execute_result",
          "data": {
            "text/plain": [
              "{1: 'Data Science',\n",
              " 2: 'Data Science',\n",
              " 3: 'Programming Languages',\n",
              " 4: 'Programming Languages',\n",
              " 5: 'Data science',\n",
              " 6: 'Design',\n",
              " 7: 'Physics',\n",
              " 8: 'physics',\n",
              " 9: 'physics',\n",
              " 10: 'history',\n",
              " 11: 'design',\n",
              " 12: 'design',\n",
              " 13: 'design',\n",
              " 14: 'Design',\n",
              " 15: 'Programming Languages',\n",
              " 16: 'Programming Languages',\n",
              " 17: 'Programming Languages',\n",
              " 18: 'Web Development',\n",
              " 19: 'Web Development',\n",
              " 20: 'physics',\n",
              " 21: 'design',\n",
              " 22: 'design',\n",
              " 23: 'Design',\n",
              " 24: 'Design',\n",
              " 25: 'Design',\n",
              " 26: 'Data Science',\n",
              " 27: 'web development',\n",
              " 28: 'Data Science',\n",
              " 29: 'mob app dev',\n",
              " 30: 'mob app dev',\n",
              " 31: 'mob app dev',\n",
              " 32: 'mob app dev',\n",
              " 33: 'Physics',\n",
              " 34: 'physics',\n",
              " 35: 'finance',\n",
              " 36: 'finance',\n",
              " 37: 'finance',\n",
              " 38: 'finance',\n",
              " 39: 'finance',\n",
              " 40: 'programming languages'}"
            ]
          },
          "metadata": {
            "tags": []
          },
          "execution_count": 52
        }
      ]
    },
    {
      "cell_type": "code",
      "metadata": {
        "id": "Txp5K558RNem"
      },
      "source": [
        "dic_user_rating_type = {} \n",
        "for Id in student_review.User_id.unique():\n",
        "    dic_user_rating_type[Id]  ={} \n",
        "    \n",
        "    data_of_user = student_review[student_review.User_id == Id]\n",
        "    \n",
        "    list_of_courses_of_that_user = list(data_of_user.Course) #get all his precedent courses\n",
        "    rating_on_courses = list(data_of_user.rating)  #get all his precedents rating on that courses\n",
        "    \n",
        "    \n",
        "    for i in range(len(list_of_courses_of_that_user)): \n",
        "        \n",
        "        course = list_of_courses_of_that_user[i] \n",
        "        rat = rating_on_courses[i] \n",
        "        \n",
        "        type_of_course = dic_id_course_type[course]\n",
        "        \n",
        "        if type_of_course not in dic_user_rating_type[Id]: #verify if type exists in dictionary\n",
        "            \n",
        "            dic_user_rating_type[Id][type_of_course]  = {'good_rating':0,'bad_rating':0} #initalize the number of good and bad ratings on that type\n",
        "            \n",
        "        if rat >=3.5 : \n",
        "            dic_user_rating_type[Id][type_of_course]['good_rating']+=1 #increment the number of good ratings of user Id on that type\n",
        "        else:\n",
        "            dic_user_rating_type[Id][type_of_course]['bad_rating']+=1 #incremant the number of bad ratings of user Id on that type\n",
        "            \n",
        "            \n",
        "    \n",
        "    "
      ],
      "execution_count": 53,
      "outputs": []
    },
    {
      "cell_type": "code",
      "metadata": {
        "colab": {
          "base_uri": "https://localhost:8080/"
        },
        "id": "ywj5MKOVRNen",
        "outputId": "4b54e599-cf6c-40fd-d373-801ea59a7cb5"
      },
      "source": [
        "dic_user_rating_type"
      ],
      "execution_count": 54,
      "outputs": [
        {
          "output_type": "execute_result",
          "data": {
            "text/plain": [
              "{1: {'Data Science': {'bad_rating': 1, 'good_rating': 1},\n",
              "  'Design': {'bad_rating': 1, 'good_rating': 0},\n",
              "  'Programming Languages': {'bad_rating': 2, 'good_rating': 0},\n",
              "  'finance': {'bad_rating': 0, 'good_rating': 1},\n",
              "  'history': {'bad_rating': 1, 'good_rating': 0}},\n",
              " 2: {'Data Science': {'bad_rating': 1, 'good_rating': 0},\n",
              "  'Data science': {'bad_rating': 0, 'good_rating': 1},\n",
              "  'Physics': {'bad_rating': 2, 'good_rating': 0},\n",
              "  'Web Development': {'bad_rating': 0, 'good_rating': 1},\n",
              "  'physics': {'bad_rating': 1, 'good_rating': 0},\n",
              "  'programming languages': {'bad_rating': 0, 'good_rating': 1}},\n",
              " 3: {'Data science': {'bad_rating': 0, 'good_rating': 1},\n",
              "  'Physics': {'bad_rating': 2, 'good_rating': 0},\n",
              "  'Programming Languages': {'bad_rating': 1, 'good_rating': 0},\n",
              "  'finance': {'bad_rating': 0, 'good_rating': 1},\n",
              "  'mob app dev': {'bad_rating': 2, 'good_rating': 0}},\n",
              " 4: {'Data Science': {'bad_rating': 1, 'good_rating': 0},\n",
              "  'Design': {'bad_rating': 1, 'good_rating': 0},\n",
              "  'design': {'bad_rating': 0, 'good_rating': 1},\n",
              "  'finance': {'bad_rating': 0, 'good_rating': 1},\n",
              "  'history': {'bad_rating': 0, 'good_rating': 1},\n",
              "  'physics': {'bad_rating': 1, 'good_rating': 0},\n",
              "  'programming languages': {'bad_rating': 1, 'good_rating': 0}},\n",
              " 5: {'Data Science': {'bad_rating': 1, 'good_rating': 0},\n",
              "  'Design': {'bad_rating': 1, 'good_rating': 0},\n",
              "  'Programming Languages': {'bad_rating': 0, 'good_rating': 2},\n",
              "  'finance': {'bad_rating': 1, 'good_rating': 0},\n",
              "  'mob app dev': {'bad_rating': 2, 'good_rating': 0}},\n",
              " 6: {'Data Science': {'bad_rating': 2, 'good_rating': 0},\n",
              "  'Physics': {'bad_rating': 0, 'good_rating': 1},\n",
              "  'design': {'bad_rating': 1, 'good_rating': 1},\n",
              "  'mob app dev': {'bad_rating': 0, 'good_rating': 1},\n",
              "  'web development': {'bad_rating': 0, 'good_rating': 1}},\n",
              " 7: {'Data Science': {'bad_rating': 2, 'good_rating': 0},\n",
              "  'Design': {'bad_rating': 1, 'good_rating': 0},\n",
              "  'Programming Languages': {'bad_rating': 1, 'good_rating': 0},\n",
              "  'design': {'bad_rating': 0, 'good_rating': 1},\n",
              "  'mob app dev': {'bad_rating': 1, 'good_rating': 0},\n",
              "  'programming languages': {'bad_rating': 1, 'good_rating': 0}},\n",
              " 8: {'Data Science': {'bad_rating': 1, 'good_rating': 0},\n",
              "  'Design': {'bad_rating': 1, 'good_rating': 0},\n",
              "  'Web Development': {'bad_rating': 1, 'good_rating': 0},\n",
              "  'design': {'bad_rating': 1, 'good_rating': 0},\n",
              "  'finance': {'bad_rating': 1, 'good_rating': 1},\n",
              "  'web development': {'bad_rating': 1, 'good_rating': 0}},\n",
              " 9: {'Design': {'bad_rating': 2, 'good_rating': 0},\n",
              "  'Physics': {'bad_rating': 0, 'good_rating': 1},\n",
              "  'finance': {'bad_rating': 0, 'good_rating': 1},\n",
              "  'mob app dev': {'bad_rating': 1, 'good_rating': 1},\n",
              "  'physics': {'bad_rating': 1, 'good_rating': 0}},\n",
              " 10: {'Data Science': {'bad_rating': 1, 'good_rating': 0},\n",
              "  'Web Development': {'bad_rating': 0, 'good_rating': 1},\n",
              "  'design': {'bad_rating': 1, 'good_rating': 0},\n",
              "  'finance': {'bad_rating': 1, 'good_rating': 1},\n",
              "  'physics': {'bad_rating': 1, 'good_rating': 1}},\n",
              " 11: {'Data Science': {'bad_rating': 1, 'good_rating': 0},\n",
              "  'Physics': {'bad_rating': 1, 'good_rating': 0},\n",
              "  'Programming Languages': {'bad_rating': 0, 'good_rating': 1},\n",
              "  'Web Development': {'bad_rating': 1, 'good_rating': 0},\n",
              "  'design': {'bad_rating': 1, 'good_rating': 0},\n",
              "  'mob app dev': {'bad_rating': 1, 'good_rating': 0},\n",
              "  'physics': {'bad_rating': 1, 'good_rating': 0}},\n",
              " 12: {'Data Science': {'bad_rating': 0, 'good_rating': 1},\n",
              "  'Design': {'bad_rating': 0, 'good_rating': 1},\n",
              "  'design': {'bad_rating': 1, 'good_rating': 1},\n",
              "  'finance': {'bad_rating': 0, 'good_rating': 2},\n",
              "  'mob app dev': {'bad_rating': 1, 'good_rating': 0}},\n",
              " 13: {'Physics': {'bad_rating': 1, 'good_rating': 0},\n",
              "  'Web Development': {'bad_rating': 1, 'good_rating': 0},\n",
              "  'design': {'bad_rating': 1, 'good_rating': 0},\n",
              "  'finance': {'bad_rating': 1, 'good_rating': 0},\n",
              "  'physics': {'bad_rating': 3, 'good_rating': 0}},\n",
              " 14: {'Data Science': {'bad_rating': 0, 'good_rating': 1},\n",
              "  'Design': {'bad_rating': 0, 'good_rating': 1},\n",
              "  'design': {'bad_rating': 2, 'good_rating': 0},\n",
              "  'physics': {'bad_rating': 1, 'good_rating': 1},\n",
              "  'web development': {'bad_rating': 0, 'good_rating': 1}},\n",
              " 15: {'Data Science': {'bad_rating': 1, 'good_rating': 0},\n",
              "  'Programming Languages': {'bad_rating': 2, 'good_rating': 0},\n",
              "  'mob app dev': {'bad_rating': 1, 'good_rating': 0},\n",
              "  'physics': {'bad_rating': 0, 'good_rating': 1},\n",
              "  'programming languages': {'bad_rating': 1, 'good_rating': 1}},\n",
              " 16: {'Data Science': {'bad_rating': 1, 'good_rating': 0},\n",
              "  'Design': {'bad_rating': 1, 'good_rating': 0},\n",
              "  'Physics': {'bad_rating': 1, 'good_rating': 0},\n",
              "  'Programming Languages': {'bad_rating': 1, 'good_rating': 0},\n",
              "  'design': {'bad_rating': 1, 'good_rating': 0},\n",
              "  'physics': {'bad_rating': 1, 'good_rating': 0},\n",
              "  'programming languages': {'bad_rating': 1, 'good_rating': 0}},\n",
              " 17: {'Data Science': {'bad_rating': 0, 'good_rating': 1},\n",
              "  'Web Development': {'bad_rating': 0, 'good_rating': 1},\n",
              "  'design': {'bad_rating': 1, 'good_rating': 0},\n",
              "  'finance': {'bad_rating': 1, 'good_rating': 1},\n",
              "  'mob app dev': {'bad_rating': 1, 'good_rating': 0},\n",
              "  'physics': {'bad_rating': 0, 'good_rating': 1}},\n",
              " 18: {'Data Science': {'bad_rating': 1, 'good_rating': 0},\n",
              "  'Design': {'bad_rating': 1, 'good_rating': 0},\n",
              "  'Programming Languages': {'bad_rating': 1, 'good_rating': 0},\n",
              "  'Web Development': {'bad_rating': 1, 'good_rating': 0},\n",
              "  'design': {'bad_rating': 1, 'good_rating': 1},\n",
              "  'web development': {'bad_rating': 1, 'good_rating': 0}},\n",
              " 19: {'Data science': {'bad_rating': 0, 'good_rating': 1},\n",
              "  'Design': {'bad_rating': 1, 'good_rating': 1},\n",
              "  'Programming Languages': {'bad_rating': 1, 'good_rating': 2},\n",
              "  'web development': {'bad_rating': 0, 'good_rating': 1}},\n",
              " 20: {'Data Science': {'bad_rating': 0, 'good_rating': 1},\n",
              "  'Design': {'bad_rating': 1, 'good_rating': 0},\n",
              "  'Physics': {'bad_rating': 1, 'good_rating': 0},\n",
              "  'Programming Languages': {'bad_rating': 1, 'good_rating': 0},\n",
              "  'design': {'bad_rating': 0, 'good_rating': 1},\n",
              "  'finance': {'bad_rating': 0, 'good_rating': 1},\n",
              "  'mob app dev': {'bad_rating': 0, 'good_rating': 1}}}"
            ]
          },
          "metadata": {
            "tags": []
          },
          "execution_count": 54
        }
      ]
    },
    {
      "cell_type": "code",
      "metadata": {
        "id": "a5aE7T7DRNen"
      },
      "source": [
        "user_types_favorite = {}\n",
        "\n",
        "for user in dic_user_rating_type.keys() : \n",
        "    \n",
        "    user_types_favorite[user] = [] \n",
        "    \n",
        "    types = dic_user_rating_type[user].keys()\n",
        "    \n",
        "    for tp in types:\n",
        "        if dic_user_rating_type[user][tp]['good_rating'] > dic_user_rating_type[user][tp]['bad_rating']:\n",
        "            user_types_favorite[user].append(tp)\n",
        "            "
      ],
      "execution_count": 55,
      "outputs": []
    },
    {
      "cell_type": "code",
      "metadata": {
        "colab": {
          "base_uri": "https://localhost:8080/"
        },
        "id": "IpW4u0iVRNeo",
        "outputId": "ee0264b7-ff11-4363-de7a-9ebd7002f977"
      },
      "source": [
        "user_types_favorite"
      ],
      "execution_count": 56,
      "outputs": [
        {
          "output_type": "execute_result",
          "data": {
            "text/plain": [
              "{1: ['finance'],\n",
              " 2: ['programming languages', 'Web Development', 'Data science'],\n",
              " 3: ['Data science', 'finance'],\n",
              " 4: ['design', 'finance', 'history'],\n",
              " 5: ['Programming Languages'],\n",
              " 6: ['Physics', 'mob app dev', 'web development'],\n",
              " 7: ['design'],\n",
              " 8: [],\n",
              " 9: ['Physics', 'finance'],\n",
              " 10: ['Web Development'],\n",
              " 11: ['Programming Languages'],\n",
              " 12: ['Data Science', 'finance', 'Design'],\n",
              " 13: [],\n",
              " 14: ['Design', 'web development', 'Data Science'],\n",
              " 15: ['physics'],\n",
              " 16: [],\n",
              " 17: ['Data Science', 'physics', 'Web Development'],\n",
              " 18: [],\n",
              " 19: ['Programming Languages', 'Data science', 'web development'],\n",
              " 20: ['mob app dev', 'Data Science', 'finance', 'design']}"
            ]
          },
          "metadata": {
            "tags": []
          },
          "execution_count": 56
        }
      ]
    },
    {
      "cell_type": "code",
      "metadata": {
        "colab": {
          "base_uri": "https://localhost:8080/"
        },
        "id": "9ao0UcHZRNeo",
        "outputId": "ec3c35d9-6611-4e01-d80c-19ef026b905e"
      },
      "source": [
        "name_of_user = {}\n",
        "\n",
        "for user_id in student_review.User_id.unique():\n",
        "    name_of_user[user_id] = student_review[student_review['User_id'] == user_id]['name'].unique()[0]\n",
        "name_of_user"
      ],
      "execution_count": 57,
      "outputs": [
        {
          "output_type": "execute_result",
          "data": {
            "text/plain": [
              "{1: 'hulk',\n",
              " 2: 'miller',\n",
              " 3: 'han',\n",
              " 4: 'mike',\n",
              " 5: 'chris',\n",
              " 6: 'takato',\n",
              " 7: 'pan',\n",
              " 8: 'hashimoto',\n",
              " 9: 'pan',\n",
              " 10: 'chris',\n",
              " 11: 'mike',\n",
              " 12: 'seao',\n",
              " 13: 'hashimoto',\n",
              " 14: 'wick',\n",
              " 15: 'miller',\n",
              " 16: 'han',\n",
              " 17: 'jan',\n",
              " 18: 'wick',\n",
              " 19: 'han',\n",
              " 20: 'hashimoto'}"
            ]
          },
          "metadata": {
            "tags": []
          },
          "execution_count": 57
        }
      ]
    },
    {
      "cell_type": "code",
      "metadata": {
        "colab": {
          "base_uri": "https://localhost:8080/"
        },
        "id": "SkNv9219RNep",
        "outputId": "096a2237-7eb7-4cb4-fc2f-838b3c286619"
      },
      "source": [
        "name_of_course = {} #key is id_course - values is the name of course\n",
        "for id_c in courses_data.ID:\n",
        "    name_of_course[id_c] = courses_data[courses_data['ID'] == id_c]['Course Name'].unique()[0]\n",
        "name_of_course"
      ],
      "execution_count": 58,
      "outputs": [
        {
          "output_type": "execute_result",
          "data": {
            "text/plain": [
              "{1: 'Building Machine Learning Models',\n",
              " 2: 'Road to Machine Learning',\n",
              " 3: 'Python for Beginners',\n",
              " 4: 'Learn Java',\n",
              " 5: 'Data Science',\n",
              " 6: 'Adobe Illustrator',\n",
              " 7: 'Physics for life',\n",
              " 8: 'Mechanics',\n",
              " 9: 'Newton Laws',\n",
              " 10: 'African History',\n",
              " 11: 'Finance for beginners',\n",
              " 12: 'finance for life',\n",
              " 13: 'finance ',\n",
              " 14: 'marketing',\n",
              " 15: 'Learn C#',\n",
              " 16: 'Learn php',\n",
              " 17: 'learn c++',\n",
              " 18: 'learn css',\n",
              " 19: 'learn html',\n",
              " 20: 'learn geomecanic',\n",
              " 21: 'learn geophysic',\n",
              " 22: 'adobe xd course',\n",
              " 23: 'photoshop ',\n",
              " 24: '3d design',\n",
              " 25: 'games disgn',\n",
              " 26: 'story disgn',\n",
              " 27: 'Learn computer vision',\n",
              " 28: 'learn bootstrape',\n",
              " 29: 'learn keras',\n",
              " 30: 'learn flutter',\n",
              " 31: 'learn android studio',\n",
              " 32: 'learn pygame',\n",
              " 33: 'kivy from zero to hero',\n",
              " 34: 'electricity',\n",
              " 35: 'Thermodynamics',\n",
              " 36: 'Financial Modeling for Business Analysts and Consultants',\n",
              " 37: 'Beginner to Pro - Financial Analysis in Excel 2017',\n",
              " 38: 'The Only Investment Strategy You Need For Your Retirement',\n",
              " 39: 'Bitcoin Profits for Beginners',\n",
              " 40: 'learn java script'}"
            ]
          },
          "metadata": {
            "tags": []
          },
          "execution_count": 58
        }
      ]
    },
    {
      "cell_type": "code",
      "metadata": {
        "id": "Ok-8MtaNRNep"
      },
      "source": [
        "user_courses_recomended = {} #key is user - values are courses recommended\n",
        "\n",
        "for user in user_types_favorite.keys():\n",
        "    \n",
        "    user_courses_recomended[user] = [] #initialize the list that will contain new recommendation for that user\n",
        "    \n",
        "    precedent_courses = student_review[student_review['User_id'] == user ]['Course']\n",
        "    \n",
        "    for tp in user_types_favorite[user]: \n",
        "        \n",
        "        courses_of_that_type = courses_data[courses_data['type']==tp]['ID'] #get all courses with type tp\n",
        "        \n",
        "        for cr in courses_of_that_type : \n",
        "            \n",
        "            if cr not in precedent_courses : #verify if user had studied that course before\n",
        "                user_courses_recomended[user].append(cr) #recommend him new courses\n",
        "                \n",
        "                "
      ],
      "execution_count": 59,
      "outputs": []
    },
    {
      "cell_type": "code",
      "metadata": {
        "colab": {
          "base_uri": "https://localhost:8080/"
        },
        "id": "mp5g_N9vRNeq",
        "outputId": "deed42e1-4492-4c1a-e713-f69e187adafa"
      },
      "source": [
        "for user in user_courses_recomended.keys(): #print the courses recommendeded for user\n",
        "    print('Recommended courses for',name_of_user[user],'with UserID',user)\n",
        "    \n",
        "    for cr in user_courses_recomended[user]: \n",
        "        print(name_of_course[cr])\n",
        "    print('\\n')"
      ],
      "execution_count": 60,
      "outputs": [
        {
          "output_type": "stream",
          "text": [
            "Recommended courses for chris with UserID 5\n",
            "Python for Beginners\n",
            "Learn Java\n",
            "Learn C#\n",
            "Learn php\n",
            "learn c++\n",
            "\n",
            "\n",
            "Recommended courses for han with UserID 3\n",
            "Data Science\n",
            "Thermodynamics\n",
            "Financial Modeling for Business Analysts and Consultants\n",
            "Beginner to Pro - Financial Analysis in Excel 2017\n",
            "The Only Investment Strategy You Need For Your Retirement\n",
            "Bitcoin Profits for Beginners\n",
            "\n",
            "\n",
            "Recommended courses for han with UserID 16\n",
            "\n",
            "\n",
            "Recommended courses for jan with UserID 17\n",
            "Building Machine Learning Models\n",
            "Road to Machine Learning\n",
            "story disgn\n",
            "learn bootstrape\n",
            "Mechanics\n",
            "Newton Laws\n",
            "learn geomecanic\n",
            "electricity\n",
            "learn css\n",
            "learn html\n",
            "\n",
            "\n",
            "Recommended courses for hulk with UserID 1\n",
            "Thermodynamics\n",
            "Financial Modeling for Business Analysts and Consultants\n",
            "Beginner to Pro - Financial Analysis in Excel 2017\n",
            "The Only Investment Strategy You Need For Your Retirement\n",
            "Bitcoin Profits for Beginners\n",
            "\n",
            "\n",
            "Recommended courses for mike with UserID 4\n",
            "Finance for beginners\n",
            "finance for life\n",
            "finance \n",
            "learn geophysic\n",
            "adobe xd course\n",
            "Thermodynamics\n",
            "Financial Modeling for Business Analysts and Consultants\n",
            "Beginner to Pro - Financial Analysis in Excel 2017\n",
            "The Only Investment Strategy You Need For Your Retirement\n",
            "Bitcoin Profits for Beginners\n",
            "African History\n",
            "\n",
            "\n",
            "Recommended courses for chris with UserID 10\n",
            "learn css\n",
            "learn html\n",
            "\n",
            "\n",
            "Recommended courses for hashimoto with UserID 13\n",
            "\n",
            "\n",
            "Recommended courses for hashimoto with UserID 20\n",
            "learn keras\n",
            "learn flutter\n",
            "learn android studio\n",
            "learn pygame\n",
            "Building Machine Learning Models\n",
            "Road to Machine Learning\n",
            "story disgn\n",
            "learn bootstrape\n",
            "Thermodynamics\n",
            "Financial Modeling for Business Analysts and Consultants\n",
            "Beginner to Pro - Financial Analysis in Excel 2017\n",
            "The Only Investment Strategy You Need For Your Retirement\n",
            "Bitcoin Profits for Beginners\n",
            "finance \n",
            "learn geophysic\n",
            "adobe xd course\n",
            "\n",
            "\n",
            "Recommended courses for han with UserID 19\n",
            "Python for Beginners\n",
            "Learn Java\n",
            "Learn C#\n",
            "learn c++\n",
            "Data Science\n",
            "Learn computer vision\n",
            "\n",
            "\n",
            "Recommended courses for miller with UserID 2\n",
            "learn java script\n",
            "learn css\n",
            "learn html\n",
            "Data Science\n",
            "\n",
            "\n",
            "Recommended courses for hashimoto with UserID 8\n",
            "\n",
            "\n",
            "Recommended courses for pan with UserID 9\n",
            "Physics for life\n",
            "kivy from zero to hero\n",
            "Thermodynamics\n",
            "Financial Modeling for Business Analysts and Consultants\n",
            "The Only Investment Strategy You Need For Your Retirement\n",
            "Bitcoin Profits for Beginners\n",
            "\n",
            "\n",
            "Recommended courses for mike with UserID 11\n",
            "Python for Beginners\n",
            "Learn Java\n",
            "Learn C#\n",
            "Learn php\n",
            "learn c++\n",
            "\n",
            "\n",
            "Recommended courses for miller with UserID 15\n",
            "Mechanics\n",
            "Newton Laws\n",
            "learn geomecanic\n",
            "electricity\n",
            "\n",
            "\n",
            "Recommended courses for wick with UserID 14\n",
            "Adobe Illustrator\n",
            "marketing\n",
            "photoshop \n",
            "3d design\n",
            "games disgn\n",
            "Learn computer vision\n",
            "Building Machine Learning Models\n",
            "Road to Machine Learning\n",
            "story disgn\n",
            "learn bootstrape\n",
            "\n",
            "\n",
            "Recommended courses for seao with UserID 12\n",
            "Building Machine Learning Models\n",
            "Road to Machine Learning\n",
            "story disgn\n",
            "learn bootstrape\n",
            "Thermodynamics\n",
            "Financial Modeling for Business Analysts and Consultants\n",
            "Beginner to Pro - Financial Analysis in Excel 2017\n",
            "The Only Investment Strategy You Need For Your Retirement\n",
            "Adobe Illustrator\n",
            "marketing\n",
            "photoshop \n",
            "3d design\n",
            "games disgn\n",
            "\n",
            "\n",
            "Recommended courses for takato with UserID 6\n",
            "Physics for life\n",
            "kivy from zero to hero\n",
            "learn keras\n",
            "learn flutter\n",
            "learn android studio\n",
            "learn pygame\n",
            "Learn computer vision\n",
            "\n",
            "\n",
            "Recommended courses for wick with UserID 18\n",
            "\n",
            "\n",
            "Recommended courses for pan with UserID 7\n",
            "Finance for beginners\n",
            "finance for life\n",
            "finance \n",
            "learn geophysic\n",
            "adobe xd course\n",
            "\n",
            "\n"
          ],
          "name": "stdout"
        }
      ]
    }
  ]
}